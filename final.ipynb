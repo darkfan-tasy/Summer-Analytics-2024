{
 "cells": [
  {
   "cell_type": "markdown",
   "id": "9219083a-6dc2-411d-b7fb-7c8f2b377f6c",
   "metadata": {},
   "source": [
    "<font color='blue'><h1>Importing Libraries</h1></font>\n"
   ]
  },
  {
   "cell_type": "code",
   "execution_count": 14,
   "id": "338e69a1-c94a-47a2-8b15-4f668e1aba5d",
   "metadata": {},
   "outputs": [],
   "source": [
    "import numpy as np\n",
    "import pandas as pd\n",
    "from sklearn.model_selection import train_test_split, cross_val_score\n",
    "from sklearn.impute import SimpleImputer\n",
    "from sklearn.preprocessing import OneHotEncoder, StandardScaler\n",
    "from sklearn.compose import ColumnTransformer\n",
    "from sklearn.pipeline import Pipeline\n",
    "from sklearn.ensemble import RandomForestClassifier\n",
    "from sklearn.metrics import roc_auc_score"
   ]
  },
  {
   "cell_type": "markdown",
   "id": "03cea9c7-7365-4823-9744-c42a8879f691",
   "metadata": {},
   "source": [
    "### <font color = 'blue'>Reading the data</font>"
   ]
  },
  {
   "cell_type": "code",
   "execution_count": 15,
   "id": "f58f9097-d202-4f35-b552-d749d98e6d88",
   "metadata": {},
   "outputs": [],
   "source": [
    "features_train = pd.read_csv('training_set_features.csv')\n",
    "labels_train = pd.read_csv('training_set_labels.csv')\n",
    "features_test = pd.read_csv('test_set_features.csv')"
   ]
  },
  {
   "cell_type": "markdown",
   "id": "74f35825-d1e7-48ce-8511-a1deb3eba5e1",
   "metadata": {},
   "source": [
    "### <font color = 'blue'>Data preprocessing</font>"
   ]
  },
  {
   "cell_type": "code",
   "execution_count": 16,
   "id": "b87469f3-ad5f-45b0-ae52-871e13a7b962",
   "metadata": {},
   "outputs": [],
   "source": [
    "# Separating target and predictors\n",
    "X = features_train.drop(columns=['respondent_id'])\n",
    "y = labels_train.drop(columns=['respondent_id'])\n",
    "X_test = features_test.drop(columns=['respondent_id'])\n",
    "\n",
    "# Spliting the data into numerical and categorial\n",
    "cat_cols = [col for col in X.columns if X[col].dtype == \"object\"]\n",
    "num_cols = [col for col in X.columns if X[col].dtype in ['int64', 'float64']]\n",
    "\n",
    "# Numerical Data Preprocessing (Replacing missing values with most_frequent)\n",
    "num_transformer = Pipeline(steps=[\n",
    "    ('imputer', SimpleImputer(strategy='most_frequent')),\n",
    "    ('scaler', StandardScaler())])\n",
    "\n",
    "\n",
    "# Categorial Data Preprocessing\n",
    "cat_transformer = Pipeline(steps=[\n",
    "    ('imputer', SimpleImputer(strategy='constant', fill_value='missing')),\n",
    "    ('onehot', OneHotEncoder(handle_unknown='ignore'))])\n",
    "\n",
    "# Bundle preprocessing for numerical and categorical data\n",
    "data_preprocessor = ColumnTransformer(\n",
    "    transformers=[\n",
    "        ('num', num_transformer, num_cols),\n",
    "        ('cat', cat_transformer, cat_cols)])\n"
   ]
  },
  {
   "cell_type": "markdown",
   "id": "aeea6bc3-1e8e-48f8-9082-65c9288ff545",
   "metadata": {},
   "source": [
    "### <font color = 'blue'>Building Model</font>"
   ]
  },
  {
   "cell_type": "code",
   "execution_count": 17,
   "id": "c13035e3-5ae8-490e-a6e6-8aa06229d911",
   "metadata": {},
   "outputs": [],
   "source": [
    "# Model definition (RandonForestClassifier)\n",
    "classifier = RandomForestClassifier(n_estimators=50, random_state=0)\n",
    "\n",
    "# Creating and evaluating the pipeline\n",
    "full_pipeline = Pipeline(steps=[('preprocessor', data_preprocessor),\n",
    "                                ('classifier', classifier)])\n",
    "\n",
    "# Splitting  and fitting the data\n",
    "X_train, X_val, y_train, y_val = train_test_split(X, y, test_size=0.2, random_state=0)\n",
    "full_pipeline.fit(X_train, y_train)\n",
    "\n",
    "# Predict on validation\n",
    "val_predictions = full_pipeline.predict_proba(X_val)\n",
    "\n",
    "# Calculation of ROC AUC score\n",
    "roc_auc_results = {target: roc_auc_score(y_val[target], val_predictions[i][:, 1]) for i, target in enumerate(y_train.columns)}\n",
    "\n",
    "# Predict on test data\n",
    "test_predictions = full_pipeline.predict_proba(X_test)"
   ]
  },
  {
   "cell_type": "markdown",
   "id": "05bee0eb-0119-436d-b57d-77fc2531cad5",
   "metadata": {},
   "source": [
    "### <font color = 'blue'> Creating the submission file(.csv) </font>"
   ]
  },
  {
   "cell_type": "code",
   "execution_count": 18,
   "id": "1b6448c1-3a23-43b9-bd53-551637cb2ce8",
   "metadata": {},
   "outputs": [
    {
     "name": "stdout",
     "output_type": "stream",
     "text": [
      "File saved to: submission.csv\n",
      "ROC AUC scores: {'xyz_vaccine': 0.8093893150101205, 'seasonal_vaccine': 0.8509388570391954}\n"
     ]
    }
   ],
   "source": [
    "# Extract probabilities for each vaccine\n",
    "xyz_vaccine_probs = test_predictions[0][:, 1]\n",
    "seasonal_vaccine_probs = test_predictions[1][:, 1]\n",
    "\n",
    "# Create a submission DataFrame\n",
    "submission_df = pd.DataFrame({\n",
    "    \"respondent_id\": features_test['respondent_id'],\n",
    "    \"xyz_vaccine\": xyz_vaccine_probs,\n",
    "    \"seasonal_vaccine\": seasonal_vaccine_probs\n",
    "})\n",
    "\n",
    "# Save the submission DataFrame to a CSV file\n",
    "submission_file_path = 'submission.csv'\n",
    "submission_df.to_csv(submission_file_path, index=False)\n",
    "\n",
    "print(\"File saved to:\", submission_file_path)\n",
    "print(\"ROC AUC scores:\", roc_auc_results)\n"
   ]
  }
 ],
 "metadata": {
  "kernelspec": {
   "display_name": "Python 3 (ipykernel)",
   "language": "python",
   "name": "python3"
  },
  "language_info": {
   "codemirror_mode": {
    "name": "ipython",
    "version": 3
   },
   "file_extension": ".py",
   "mimetype": "text/x-python",
   "name": "python",
   "nbconvert_exporter": "python",
   "pygments_lexer": "ipython3",
   "version": "3.11.7"
  }
 },
 "nbformat": 4,
 "nbformat_minor": 5
}
